{
 "cells": [
  {
   "cell_type": "code",
   "execution_count": 2,
   "id": "f54f0e10-957b-4504-91f9-ec04a98bcd35",
   "metadata": {},
   "outputs": [],
   "source": [
    "import numpy as np\n",
    "import pandas as pd\n",
    "import matplotlib.pyplot as plt\n",
    "import statsmodels.formula.api as snf\n",
    "import seaborn as sns"
   ]
  },
  {
   "cell_type": "code",
   "execution_count": 5,
   "id": "73675335-5444-4850-b8c8-f73e3dfc81d5",
   "metadata": {},
   "outputs": [],
   "source": [
    "df1 = pd.read_excel(\n",
    "    \"stats.xlsx\",\n",
    "    sheet_name=\"Per Game Table\", \n",
    ")"
   ]
  },
  {
   "cell_type": "code",
   "execution_count": 8,
   "id": "71cf3b36-8f77-4aa1-9f50-65e9113263c7",
   "metadata": {},
   "outputs": [
    {
     "name": "stdout",
     "output_type": "stream",
     "text": [
      "  Column1                  Column2 Column3 Column4 Column5 Column6 Column7  \\\n",
      "0      Rk                   Player     Age    Team     Pos       G      GS   \n",
      "1       1  Shai Gilgeous-Alexander      26     OKC      PG      73      73   \n",
      "2       2    Giannis Antetokounmpo      30     MIL      PF      62      62   \n",
      "3       3             Nikola Jokić      29     DEN       C      65      65   \n",
      "4       4              Luka Dončić      25     2TM      PG      44      44   \n",
      "\n",
      "  Column8 Column9 Column10  ... Column21 Column22 Column23 Column24 Column25  \\\n",
      "0      MP      FG      FGA  ...      FT%      ORB      DRB      TRB      AST   \n",
      "1    34.2    11.3     21.7  ...     .901      0.9      4.1      5.0      6.3   \n",
      "2    34.0    11.9     19.8  ...     .611      2.2      9.5     11.8      6.0   \n",
      "3    36.7    11.3     19.6  ...     .803      2.9      9.9     12.8     10.2   \n",
      "4    35.4     9.0     20.6  ...     .781      0.8      7.6      8.4      7.9   \n",
      "\n",
      "  Column26 Column27 Column28 Column29 Column30  \n",
      "0      STL      BLK      TOV       PF      PTS  \n",
      "1      1.7      1.0      2.4      2.1     32.8  \n",
      "2      0.9      1.2      3.2      2.5     30.4  \n",
      "3      1.8      0.7      3.3      2.3     29.7  \n",
      "4      1.9      0.4      3.7      2.6     27.7  \n",
      "\n",
      "[5 rows x 30 columns]\n"
     ]
    }
   ],
   "source": [
    "print(df1.head())"
   ]
  },
  {
   "cell_type": "code",
   "execution_count": 11,
   "id": "0c834fa9-efc1-423b-847f-a939e2852844",
   "metadata": {},
   "outputs": [],
   "source": [
    "df2 = pd.read_excel(\n",
    "    \"Contracts.xlsx\",\n",
    ")"
   ]
  },
  {
   "cell_type": "code",
   "execution_count": 14,
   "id": "b77b4b00-7e59-41ca-94f6-97c97321224b",
   "metadata": {},
   "outputs": [
    {
     "name": "stdout",
     "output_type": "stream",
     "text": [
      "  Column1        Column2 Column3      Column4      Column5      Column6  \\\n",
      "0      Rk         Player      Tm      2024-25      2025-26      2026-27   \n",
      "1       1  Stephen Curry     GSW  $55,761,216  $59,606,817  $62,587,158   \n",
      "2       2    Joel Embiid     PHI  $51,415,938  $55,224,526  $57,985,752   \n",
      "3       3   Nikola Jokić     DEN  $51,415,938  $55,224,526  $59,033,114   \n",
      "4       4   Kevin Durant     PHO  $51,179,021  $54,708,609          NaN   \n",
      "\n",
      "       Column7      Column8  Column9      Column10  \n",
      "0      2027-28      2028-29  2029-30    Guaranteed  \n",
      "1          NaN          NaN      NaN  $177,955,191  \n",
      "2  $62,624,612  $67,263,472      NaN  $227,250,828  \n",
      "3  $62,841,702          NaN      NaN  $165,673,578  \n",
      "4          NaN          NaN      NaN  $105,887,630  \n"
     ]
    }
   ],
   "source": [
    "print(df2.head())"
   ]
  },
  {
   "cell_type": "code",
   "execution_count": 17,
   "id": "7073204c-607b-4f92-8db6-14b68f35a7f6",
   "metadata": {},
   "outputs": [
    {
     "name": "stdout",
     "output_type": "stream",
     "text": [
      "   Rk                   player  Age  Team  Pos   G  GS    MP    FG   FGA  ...  \\\n",
      "0  Rk                   Player  Age  Team  Pos   G  GS    MP    FG   FGA  ...   \n",
      "1   1  Shai Gilgeous-Alexander   26   OKC   PG  73  73  34.2  11.3  21.7  ...   \n",
      "2   2    Giannis Antetokounmpo   30   MIL   PF  62  62  34.0  11.9  19.8  ...   \n",
      "3   3             Nikola Jokić   29   DEN    C  65  65  36.7  11.3  19.6  ...   \n",
      "4   4              Luka Dončić   25   2TM   PG  44  44  35.4   9.0  20.6  ...   \n",
      "\n",
      "    FT&  ORB  DRB   TRB   AST  STL  BLK  TOV   PF   PTS  \n",
      "0   FT%  ORB  DRB   TRB   AST  STL  BLK  TOV   PF   PTS  \n",
      "1  .901  0.9  4.1   5.0   6.3  1.7  1.0  2.4  2.1  32.8  \n",
      "2  .611  2.2  9.5  11.8   6.0  0.9  1.2  3.2  2.5  30.4  \n",
      "3  .803  2.9  9.9  12.8  10.2  1.8  0.7  3.3  2.3  29.7  \n",
      "4  .781  0.8  7.6   8.4   7.9  1.9  0.4  3.7  2.6  27.7  \n",
      "\n",
      "[5 rows x 30 columns]\n"
     ]
    }
   ],
   "source": [
    "new_names = [\n",
    "    \"Rk\", \"player\", \"Age\", \"Team\", \"Pos\", \"G\", \"GS\", \"MP\", \"FG\", \"FGA\", \"FG&\",\n",
    "    \"3P\", \"3PA\", \"3P&\", \"2P\", \"2PA\", \"2P&\", \"eFG&\", \"FT\", \"FTA\", \"FT&\",\n",
    "    \"ORB\", \"DRB\", \"TRB\", \"AST\", \"STL\", \"BLK\", \"TOV\", \"PF\", \"PTS\"\n",
    "]\n",
    "\n",
    "df1.columns = new_names\n",
    "\n",
    "print(df1.head())"
   ]
  },
  {
   "cell_type": "code",
   "execution_count": 20,
   "id": "9adb66c2-405b-4892-857f-a52134d76854",
   "metadata": {},
   "outputs": [
    {
     "name": "stdout",
     "output_type": "stream",
     "text": [
      "   Rk         Player   Tm    2024-2025    2025-2026    2026-2027    2027-2028  \\\n",
      "0  Rk         Player   Tm      2024-25      2025-26      2026-27      2027-28   \n",
      "1   1  Stephen Curry  GSW  $55,761,216  $59,606,817  $62,587,158          NaN   \n",
      "2   2    Joel Embiid  PHI  $51,415,938  $55,224,526  $57,985,752  $62,624,612   \n",
      "3   3   Nikola Jokić  DEN  $51,415,938  $55,224,526  $59,033,114  $62,841,702   \n",
      "4   4   Kevin Durant  PHO  $51,179,021  $54,708,609          NaN          NaN   \n",
      "\n",
      "     2028-2029 2029-2030    Guaranteed  \n",
      "0      2028-29   2029-30    Guaranteed  \n",
      "1          NaN       NaN  $177,955,191  \n",
      "2  $67,263,472       NaN  $227,250,828  \n",
      "3          NaN       NaN  $165,673,578  \n",
      "4          NaN       NaN  $105,887,630  \n"
     ]
    }
   ],
   "source": [
    "new_names_contracts = [\n",
    "    \"Rk\", \"Player\", \"Tm\", \n",
    "    \"2024-2025\", \"2025-2026\", \"2026-2027\", \n",
    "    \"2027-2028\", \"2028-2029\", \"2029-2030\", \n",
    "    \"Guaranteed\"\n",
    "]\n",
    "\n",
    "df2.columns = new_names_contracts\n",
    "print(df2.head())"
   ]
  },
  {
   "cell_type": "code",
   "execution_count": 23,
   "id": "e0c24e31-9cfe-4689-8ee1-15dfdf474daa",
   "metadata": {},
   "outputs": [
    {
     "name": "stdout",
     "output_type": "stream",
     "text": [
      "               player Team 2025-2026\n",
      "28         Cam Thomas  BRK       NaN\n",
      "96      Malik Beasley  DET       NaN\n",
      "102  Jonathan Kuminga  GSW       NaN\n",
      "103      Myles Turner  IND       NaN\n",
      "120       Josh Giddey  CHI       NaN\n",
      "..                ...  ...       ...\n",
      "751    Isaiah Stevens  MIA       NaN\n",
      "752      Terry Taylor  SAC       NaN\n",
      "753       P.J. Tucker  NYK       NaN\n",
      "754      Jahmir Young  CHI       NaN\n",
      "755    League Average  NaN       NaN\n",
      "\n",
      "[346 rows x 3 columns]\n"
     ]
    }
   ],
   "source": [
    "df1_clean = df1.drop(0)\n",
    "df2_clean = df2.drop(0)\n",
    "\n",
    "merged_df = pd.merge(\n",
    "    df1_clean,\n",
    "    df2_clean,      \n",
    "    left_on=\"player\",  \n",
    "    right_on=\"Player\",\n",
    "    how=\"left\"       \n",
    ")\n",
    "\n",
    "# Filter players with no contract for 2025-2026\n",
    "players_no_contract = merged_df[merged_df[\"2025-2026\"].isna()]\n",
    "\n",
    "# Display relevant columns\n",
    "result = players_no_contract[[\"player\", \"Team\", \"2025-2026\"]]\n",
    "print(result)"
   ]
  },
  {
   "cell_type": "code",
   "execution_count": 26,
   "id": "29f17f3c-4fee-4375-afdb-28e1fdf8b68e",
   "metadata": {},
   "outputs": [
    {
     "name": "stdout",
     "output_type": "stream",
     "text": [
      "      Rk             player Age Team Pos   G  GS    MP   FG   FGA  ...    FT&  \\\n",
      "46    38         RJ Barrett  24  TOR  SF  55  55  32.7  8.1  17.0  ...   .639   \n",
      "61    53     Scottie Barnes  23  TOR  PF  61  61  33.1  7.2  16.3  ...   .768   \n",
      "85    75  Immanuel Quickley  25  TOR  PG  31  31  28.2  5.7  13.4  ...   .865   \n",
      "114   98       Jakob Poeltl  29  TOR   C  56  55  29.6  6.4  10.1  ...   .674   \n",
      "116  100        Gradey Dick  21  TOR  SG  54  54  29.4  4.9  12.0  ...   .858   \n",
      "215  184       Ochai Agbaji  24  TOR  SG  60  42  26.9  4.0   8.0  ...   .702   \n",
      "216  185      Chris Boucher  32  TOR  PF  50   0  17.2  3.6   7.4  ...   .782   \n",
      "275  231       Kelly Olynyk  33  TOR   C  24   2  16.0  2.5   4.9  ...   .791   \n",
      "291  244     Ja'Kobe Walter  20  TOR  SG  49  15  20.9  3.0   7.4  ...   .779   \n",
      "296  246        Bruce Brown  28  TOR  PG  18   0  19.6  3.2   7.3  ...   .897   \n",
      "314  259        A.J. Lawson  24  TOR  SG  20   2  17.1  2.8   7.0  ...   .639   \n",
      "327  269    Davion Mitchell  26  TOR  PG  44  22  24.5  2.4   5.5  ...   .676   \n",
      "345  280       Jared Rhoden  25  TOR  SG   7   2  21.6  3.6   7.9  ...   .842   \n",
      "369  298        Jamal Shead  22  TOR  PG  70   7  18.8  2.6   6.4  ...   .763   \n",
      "385  306   Orlando Robinson  24  TOR   C  31   6  19.8  3.0   6.7  ...   .818   \n",
      "393  312     Jamison Battle  23  TOR  SF  53   7  16.4  2.3   5.4  ...   .889   \n",
      "437  346     Jonathan Mogbo  23  TOR  PF  57  13  19.1  2.2   5.0  ...   .727   \n",
      "468  369        Cole Swider  25  TOR  SF   4   0  19.5  2.8   6.8  ...   .000   \n",
      "516  401    Colin Castleton  24  TOR   C  10   4  25.9  2.7   5.7  ...   .765   \n",
      "567  440     Bruno Fernando  26  TOR   C  17   2   8.6  1.5   2.9  ...   .750   \n",
      "673  519     Garrett Temple  38  TOR  SG  25   0   7.3  0.4   1.7  ...   .900   \n",
      "690  534        D.J. Carton  24  TOR  SG   4   0   8.3  0.3   1.8  ...  1.000   \n",
      "696  540     Ulrich Chomche  19  TOR  PF   7   0   4.6  0.3   0.7  ...   .500   \n",
      "\n",
      "     ORB  DRB  TRB  AST  STL  BLK  TOV   PF   PTS  \n",
      "46   1.0  5.4  6.4  5.6  0.8  0.3  3.0  2.5  21.5  \n",
      "61   1.7  6.0  7.7  5.9  1.5  1.0  2.9  1.8  19.2  \n",
      "85   0.5  3.0  3.5  5.9  0.7  0.1  1.8  1.9  17.5  \n",
      "114  3.3  6.3  9.6  2.8  1.2  1.2  1.9  3.1  14.5  \n",
      "116  0.8  2.8  3.6  1.8  0.9  0.2  1.5  2.2  14.4  \n",
      "215  0.9  2.9  3.8  1.6  0.8  0.5  0.8  1.9  10.0  \n",
      "216  1.4  3.1  4.5  0.7  0.5  0.5  0.6  1.4  10.0  \n",
      "275  1.0  2.7  3.7  2.3  0.7  0.3  1.5  2.5   7.1  \n",
      "291  1.1  1.9  3.0  1.5  0.8  0.2  0.9  1.8   8.4  \n",
      "296  0.9  2.8  3.8  1.6  0.9  0.2  1.1  1.4   8.4  \n",
      "314  0.7  2.5  3.2  0.9  0.3  0.2  0.4  1.6   8.1  \n",
      "327  0.4  1.6  1.9  4.6  0.7  0.2  1.8  2.6   6.3  \n",
      "345  1.3  2.4  3.7  1.0  0.9  0.3  0.9  1.7  10.7  \n",
      "369  0.4  1.1  1.5  4.0  0.7  0.1  1.5  2.0   6.9  \n",
      "385  2.3  3.5  5.8  1.9  0.4  0.5  1.2  2.6   7.9  \n",
      "393  0.6  1.9  2.5  0.9  0.2  0.2  0.4  1.4   6.5  \n",
      "437  1.7  2.8  4.5  1.8  0.8  0.5  0.9  2.1   5.6  \n",
      "468  0.5  1.8  2.3  0.0  0.5  0.3  0.0  1.5   7.3  \n",
      "516  3.3  4.1  7.4  1.8  0.6  0.8  2.1  2.6   6.9  \n",
      "567  1.2  1.8  3.0  1.1  0.2  0.5  0.8  1.6   3.4  \n",
      "673  0.2  0.8  1.0  1.0  0.6  0.1  0.4  0.9   1.3  \n",
      "690  0.0  1.0  1.0  0.8  0.5  0.0  1.0  0.3   0.8  \n",
      "696  0.6  0.6  1.1  0.3  0.0  0.1  0.3  0.7   0.7  \n",
      "\n",
      "[23 rows x 30 columns]\n"
     ]
    }
   ],
   "source": [
    "raptors_players = df1[df1['Team'] == 'TOR']\n",
    "print(raptors_players)"
   ]
  },
  {
   "cell_type": "code",
   "execution_count": 29,
   "id": "26cf1d56-acf6-49df-ba0f-f568d64d44c8",
   "metadata": {},
   "outputs": [
    {
     "name": "stdout",
     "output_type": "stream",
     "text": [
      "Top 20 Best Point Players (Sorted by AST and PTS):\n",
      " Rank            player Team AST  PTS Pos\n",
      "    1   Cade Cunningham  DET 9.2 25.7  PG\n",
      "    2 Tyrese Haliburton  IND 9.2 18.7  PG\n",
      "    3      James Harden  LAC 8.6 22.5  PG\n",
      "    4      LeBron James  LAL 8.4 24.4  SF\n",
      "    5       Luka Dončić  2TM 7.9 27.7  PG\n",
      "    6       Luka Dončić  LAL 7.9 27.2  PG\n",
      "    7       Luka Dončić  DAL 7.8 28.1  PG\n",
      "    8        Chris Paul  SAS 7.6  8.8  PG\n",
      "    9     Jalen Brunson  NYK 7.4 26.3  PG\n",
      "   10       LaMelo Ball  CHO 7.4 25.2  PG\n",
      "   11         Ja Morant  MEM 7.4 22.7  PG\n",
      "   12   Dejounte Murray  NOP 7.4 17.5  PG\n",
      "   13      Devin Booker  PHO 7.1 25.5  SG\n",
      "   14    Damian Lillard  MIL 7.1 24.9  PG\n",
      "   15       Josh Giddey  CHI 7.0 14.3  PG\n",
      "   16       Ben Simmons  BRK 6.9  6.2  PG\n",
      "   17       Ben Simmons  BRK 6.9  6.2  PG\n",
      "   18     Elfrid Payton  NOP 6.9  5.4  PG\n",
      "   19     Elfrid Payton  NOP 6.9  5.4  PG\n",
      "   20     Elfrid Payton  NOP 6.9  5.4  PG\n"
     ]
    }
   ],
   "source": [
    "top_players = merged_df.sort_values(\n",
    "    by=[\"AST\", \"PTS\"],\n",
    "    ascending=[False, False]\n",
    ").head(20)\n",
    "\n",
    "top_players.insert(0, \"Rank\", range(1, len(top_players) + 1))\n",
    "result = top_players[[\"Rank\", \"player\", \"Team\", \"AST\", \"PTS\", \"Pos\"]]\n",
    "\n",
    "print(\"Top 20 Best Point Players (Sorted by AST and PTS):\")\n",
    "print(result.to_string(index=False))"
   ]
  },
  {
   "cell_type": "code",
   "execution_count": 26,
   "id": "92f29d0a-0c64-409c-996c-ea2eb889f8bc",
   "metadata": {},
   "outputs": [
    {
     "name": "stdout",
     "output_type": "stream",
     "text": [
      "      Rk             player Age Team Pos   G  GS    MP   FG   FGA  ...    FT%  \\\n",
      "45    38         RJ Barrett  24  TOR  SF  55  55  32.7  8.1  17.0  ...   .639   \n",
      "60    53     Scottie Barnes  23  TOR  PF  61  61  33.1  7.2  16.3  ...   .768   \n",
      "84    75  Immanuel Quickley  25  TOR  PG  31  31  28.2  5.7  13.4  ...   .865   \n",
      "113   98       Jakob Poeltl  29  TOR   C  56  55  29.6  6.4  10.1  ...   .674   \n",
      "115  100        Gradey Dick  21  TOR  SG  54  54  29.4  4.9  12.0  ...   .858   \n",
      "214  184       Ochai Agbaji  24  TOR  SG  60  42  26.9  4.0   8.0  ...   .702   \n",
      "215  185      Chris Boucher  32  TOR  PF  50   0  17.2  3.6   7.4  ...   .782   \n",
      "274  231       Kelly Olynyk  33  TOR   C  24   2  16.0  2.5   4.9  ...   .791   \n",
      "290  244     Ja'Kobe Walter  20  TOR  SG  49  15  20.9  3.0   7.4  ...   .779   \n",
      "295  246        Bruce Brown  28  TOR  PG  18   0  19.6  3.2   7.3  ...   .897   \n",
      "313  259        A.J. Lawson  24  TOR  SG  20   2  17.1  2.8   7.0  ...   .639   \n",
      "326  269    Davion Mitchell  26  TOR  PG  44  22  24.5  2.4   5.5  ...   .676   \n",
      "344  280       Jared Rhoden  25  TOR  SG   7   2  21.6  3.6   7.9  ...   .842   \n",
      "368  298        Jamal Shead  22  TOR  PG  70   7  18.8  2.6   6.4  ...   .763   \n",
      "384  306   Orlando Robinson  24  TOR   C  31   6  19.8  3.0   6.7  ...   .818   \n",
      "392  312     Jamison Battle  23  TOR  SF  53   7  16.4  2.3   5.4  ...   .889   \n",
      "436  346     Jonathan Mogbo  23  TOR  PF  57  13  19.1  2.2   5.0  ...   .727   \n",
      "467  369        Cole Swider  25  TOR  SF   4   0  19.5  2.8   6.8  ...   .000   \n",
      "515  401    Colin Castleton  24  TOR   C  10   4  25.9  2.7   5.7  ...   .765   \n",
      "566  440     Bruno Fernando  26  TOR   C  17   2   8.6  1.5   2.9  ...   .750   \n",
      "672  519     Garrett Temple  38  TOR  SG  25   0   7.3  0.4   1.7  ...   .900   \n",
      "689  534        D.J. Carton  24  TOR  SG   4   0   8.3  0.3   1.8  ...  1.000   \n",
      "695  540     Ulrich Chomche  19  TOR  PF   7   0   4.6  0.3   0.7  ...   .500   \n",
      "\n",
      "     ORB  DRB  TRB  AST  STL  BLK  TOV   PF   PTS  \n",
      "45   1.0  5.4  6.4  5.6  0.8  0.3  3.0  2.5  21.5  \n",
      "60   1.7  6.0  7.7  5.9  1.5  1.0  2.9  1.8  19.2  \n",
      "84   0.5  3.0  3.5  5.9  0.7  0.1  1.8  1.9  17.5  \n",
      "113  3.3  6.3  9.6  2.8  1.2  1.2  1.9  3.1  14.5  \n",
      "115  0.8  2.8  3.6  1.8  0.9  0.2  1.5  2.2  14.4  \n",
      "214  0.9  2.9  3.8  1.6  0.8  0.5  0.8  1.9  10.0  \n",
      "215  1.4  3.1  4.5  0.7  0.5  0.5  0.6  1.4  10.0  \n",
      "274  1.0  2.7  3.7  2.3  0.7  0.3  1.5  2.5   7.1  \n",
      "290  1.1  1.9  3.0  1.5  0.8  0.2  0.9  1.8   8.4  \n",
      "295  0.9  2.8  3.8  1.6  0.9  0.2  1.1  1.4   8.4  \n",
      "313  0.7  2.5  3.2  0.9  0.3  0.2  0.4  1.6   8.1  \n",
      "326  0.4  1.6  1.9  4.6  0.7  0.2  1.8  2.6   6.3  \n",
      "344  1.3  2.4  3.7  1.0  0.9  0.3  0.9  1.7  10.7  \n",
      "368  0.4  1.1  1.5  4.0  0.7  0.1  1.5  2.0   6.9  \n",
      "384  2.3  3.5  5.8  1.9  0.4  0.5  1.2  2.6   7.9  \n",
      "392  0.6  1.9  2.5  0.9  0.2  0.2  0.4  1.4   6.5  \n",
      "436  1.7  2.8  4.5  1.8  0.8  0.5  0.9  2.1   5.6  \n",
      "467  0.5  1.8  2.3  0.0  0.5  0.3  0.0  1.5   7.3  \n",
      "515  3.3  4.1  7.4  1.8  0.6  0.8  2.1  2.6   6.9  \n",
      "566  1.2  1.8  3.0  1.1  0.2  0.5  0.8  1.6   3.4  \n",
      "672  0.2  0.8  1.0  1.0  0.6  0.1  0.4  0.9   1.3  \n",
      "689  0.0  1.0  1.0  0.8  0.5  0.0  1.0  0.3   0.8  \n",
      "695  0.6  0.6  1.1  0.3  0.0  0.1  0.3  0.7   0.7  \n",
      "\n",
      "[23 rows x 30 columns]\n"
     ]
    }
   ],
   "source": [
    "import pandas as pd \n",
    "df1 = pd.read_excel(\"stats.xlsx\", sheet_name=\"Per Game Table\")\n",
    "df1_clean = df1.drop(0).reset_index(drop=True)\n",
    "\n",
    "stats_columns = [\n",
    "    \"Rk\", \"player\", \"Age\", \"Team\", \"Pos\", \"G\", \"GS\", \"MP\", \"FG\", \"FGA\", \"FG%\",\n",
    "    \"3P\", \"3PA\", \"3P%\", \"2P\", \"2PA\", \"2P%\", \"eFG%\", \"FT\", \"FTA\", \"FT%\",\n",
    "    \"ORB\", \"DRB\", \"TRB\", \"AST\", \"STL\", \"BLK\", \"TOV\", \"PF\", \"PTS\"\n",
    "]\n",
    "\n",
    "df1_clean.columns = stats_columns\n",
    "\n",
    "raptors_players = df1_clean[df1_clean[\"Team\"] == \"TOR\"]\n",
    "print(raptors_players)  "
   ]
  },
  {
   "cell_type": "code",
   "execution_count": 31,
   "id": "6835db4d-a8a2-4621-9003-c5e238f55ce1",
   "metadata": {},
   "outputs": [
    {
     "name": "stdout",
     "output_type": "stream",
     "text": [
      "Top 10 Toronto Raptors Players by Points Per Game:\n",
      " Rank            player Team  PTS Pos  G\n",
      "    1        RJ Barrett  TOR 21.5  SF 55\n",
      "    2    Scottie Barnes  TOR 19.2  PF 61\n",
      "    3 Immanuel Quickley  TOR 17.5  PG 31\n",
      "    4      Jakob Poeltl  TOR 14.5   C 56\n",
      "    5       Gradey Dick  TOR 14.4  SG 54\n",
      "    6      Jared Rhoden  TOR 10.7  SG  7\n",
      "    7      Ochai Agbaji  TOR 10.0  SG 60\n",
      "    8     Chris Boucher  TOR 10.0  PF 50\n",
      "    9       Bruce Brown  TOR  8.4  PG 18\n",
      "   10    Ja'Kobe Walter  TOR  8.4  SG 49\n",
      "   11       A.J. Lawson  TOR  8.1  SG 20\n",
      "   12  Orlando Robinson  TOR  7.9   C 31\n",
      "   13       Cole Swider  TOR  7.3  SF  4\n",
      "   14      Kelly Olynyk  TOR  7.1   C 24\n",
      "   15       Jamal Shead  TOR  6.9  PG 70\n"
     ]
    }
   ],
   "source": [
    "raptors_players[\"PTS\"] = pd.to_numeric(raptors_players[\"PTS\"], errors=\"coerce\")\n",
    "raptors_players = raptors_players.dropna(subset=[\"PTS\"])\n",
    "\n",
    "top_raptors_scorers = raptors_players.sort_values(by=\"PTS\", ascending=False).head(15)\n",
    "\n",
    "top_raptors_scorers.insert(0, \"Rank\", range(1, len(top_raptors_scorers) + 1))\n",
    "result = top_raptors_scorers[[\"Rank\", \"player\", \"Team\", \"PTS\", \"Pos\", \"G\"]]\n",
    "\n",
    "print(\"Top 10 Toronto Raptors Players by Points Per Game:\")\n",
    "print(result.to_string(index=False))"
   ]
  },
  {
   "cell_type": "code",
   "execution_count": 34,
   "id": "3b4a0f5b-4abf-4d91-9541-3e3f11076ec6",
   "metadata": {},
   "outputs": [
    {
     "name": "stdout",
     "output_type": "stream",
     "text": [
      "Top 10 Toronto Raptors Players by Points Per Game:\n",
      " Rank            player Team  AST Pos\n",
      "    1    Scottie Barnes  TOR  5.9  PF\n",
      "    2 Immanuel Quickley  TOR  5.9  PG\n",
      "    3        RJ Barrett  TOR  5.6  SF\n",
      "    4   Davion Mitchell  TOR  4.6  PG\n",
      "    5       Jamal Shead  TOR  4.0  PG\n",
      "    6      Jakob Poeltl  TOR  2.8   C\n",
      "    7      Kelly Olynyk  TOR  2.3   C\n",
      "    8  Orlando Robinson  TOR  1.9   C\n",
      "    9   Colin Castleton  TOR  1.8   C\n",
      "   10    Jonathan Mogbo  TOR  1.8  PF\n",
      "   11       Gradey Dick  TOR  1.8  SG\n",
      "   12      Ochai Agbaji  TOR  1.6  SG\n",
      "   13       Bruce Brown  TOR  1.6  PG\n",
      "   14    Ja'Kobe Walter  TOR  1.5  SG\n",
      "   15    Bruno Fernando  TOR  1.1   C\n"
     ]
    }
   ],
   "source": [
    "raptors_players[\"AST\"] = pd.to_numeric(raptors_players[\"AST\"], errors=\"coerce\")\n",
    "raptors_players = raptors_players.dropna(subset=[\"AST\"])\n",
    "\n",
    "top_raptors_asists = raptors_players.sort_values(by=\"AST\", ascending=False).head(15)\n",
    "\n",
    "top_raptors_asists.insert(0, \"Rank\", range(1, len(top_raptors_scorers) + 1))\n",
    "result = top_raptors_asists[[\"Rank\", \"player\", \"Team\", \"AST\", \"Pos\"]]\n",
    "\n",
    "print(\"Top 10 Toronto Raptors Players by Points Per Game:\")\n",
    "print(result.to_string(index=False))\n"
   ]
  },
  {
   "cell_type": "code",
   "execution_count": 37,
   "id": "ac962133-d764-4432-856d-039ea586cc67",
   "metadata": {},
   "outputs": [
    {
     "name": "stdout",
     "output_type": "stream",
     "text": [
      "Top 10 Toronto Raptors Players by Points Per Game:\n",
      " Rank            player Team  TRB Pos\n",
      "    1    Scottie Barnes  TOR  7.7  PF\n",
      "    2 Immanuel Quickley  TOR  3.5  PG\n",
      "    3        RJ Barrett  TOR  6.4  SF\n",
      "    4   Davion Mitchell  TOR  1.9  PG\n",
      "    5       Jamal Shead  TOR  1.5  PG\n",
      "    6      Jakob Poeltl  TOR  9.6   C\n",
      "    7      Kelly Olynyk  TOR  3.7   C\n",
      "    8  Orlando Robinson  TOR  5.8   C\n",
      "    9   Colin Castleton  TOR  7.4   C\n",
      "   10    Jonathan Mogbo  TOR  4.5  PF\n",
      "   11       Gradey Dick  TOR  3.6  SG\n",
      "   12      Ochai Agbaji  TOR  3.8  SG\n",
      "   13       Bruce Brown  TOR  3.8  PG\n",
      "   14    Ja'Kobe Walter  TOR  3.0  SG\n",
      "   15    Bruno Fernando  TOR  3.0   C\n"
     ]
    }
   ],
   "source": [
    "raptors_players[\"TRB\"] = pd.to_numeric(raptors_players[\"TRB\"], errors=\"coerce\")\n",
    "raptors_players = raptors_players.dropna(subset=[\"TRB\"])\n",
    "\n",
    "top_raptors_rebounds = raptors_players.sort_values(by=\"AST\", ascending=False).head(15)\n",
    "\n",
    "top_raptors_rebounds.insert(0, \"Rank\", range(1, len(top_raptors_scorers) + 1))\n",
    "result = top_raptors_rebounds[[\"Rank\", \"player\", \"Team\", \"TRB\", \"Pos\"]]\n",
    "\n",
    "print(\"Top 10 Toronto Raptors Players by Points Per Game:\")\n",
    "print(result.to_string(index=False))"
   ]
  },
  {
   "cell_type": "code",
   "execution_count": 42,
   "id": "618bfae1-eea0-4ddc-9349-e22b250f8774",
   "metadata": {},
   "outputs": [
    {
     "name": "stdout",
     "output_type": "stream",
     "text": [
      "Top 10 Toronto Raptors Players by 3P% (Min 4 3PA/G):\n",
      " Rank            player Team   3P%  3PA Pos\n",
      "    1 Immanuel Quickley  TOR 0.382  6.8  PG\n",
      "    2        RJ Barrett  TOR 0.359  5.3  SF\n",
      "    3       Gradey Dick  TOR 0.350  6.0  SG\n",
      "    4       Cole Swider  TOR 0.333  5.3  SF\n"
     ]
    }
   ],
   "source": [
    "raptors_players[\"3P%\"] = pd.to_numeric(raptors_players[\"3P%\"], errors=\"coerce\")\n",
    "raptors_players[\"3PA\"] = pd.to_numeric(raptors_players[\"3PA\"], errors=\"coerce\")\n",
    "\n",
    "qualified_raptors = raptors_players[\n",
    "    (raptors_players[\"3PA\"] >= 5) &\n",
    "    (~raptors_players[\"3P%\"].isna())\n",
    "]\n",
    "\n",
    "top_raptors_3p = qualified_raptors.sort_values(by=\"3P%\", ascending=False).head(10)\n",
    "\n",
    "top_raptors_3p.insert(0, \"Rank\", range(1, len(top_raptors_3p) + 1))\n",
    "result = top_raptors_3p[[\"Rank\", \"player\", \"Team\", \"3P%\", \"3PA\", \"Pos\"]]\n",
    "\n",
    "print(\"Top 10 Toronto Raptors Players by 3P% (Min 4 3PA/G):\")\n",
    "print(result.to_string(index=False))"
   ]
  },
  {
   "cell_type": "code",
   "execution_count": null,
   "id": "4e76e4ba-100e-4de2-b65c-b699e91d4e0a",
   "metadata": {},
   "outputs": [],
   "source": [
    "#Free players the next season and stats\n"
   ]
  },
  {
   "cell_type": "code",
   "execution_count": 60,
   "id": "5c8ce287-148b-4fb7-9ca4-05db7b65595b",
   "metadata": {},
   "outputs": [
    {
     "name": "stdout",
     "output_type": "stream",
     "text": [
      "Top 20 Free Agents for 2025-2026 (Sorted by Points):\n",
      "          Player Team  PTS Age Pos   2024-2025 2025-2026\n",
      "      Cam Thomas  BRK 24.0  23  SG  $4,041,249       NaN\n",
      "  Quentin Grimes  PHI 22.0  24  SG  $4,296,682       NaN\n",
      " Dennis Schröder  BRK 18.4  31  PG $13,025,250       NaN\n",
      "   Malik Beasley  DET 16.3  28  SG  $6,000,000       NaN\n",
      "Jonathan Kuminga  GSW 16.0  22  PF  $7,636,307       NaN\n",
      "    Myles Turner  IND 15.4  28   C $19,928,500       NaN\n",
      "    Caris LeVert  ATL 14.5  30  SG $16,615,384       NaN\n",
      "     Josh Giddey  CHI 14.3  22  PG  $8,352,367       NaN\n",
      "        Tre Mann  CHO 14.1  23  PG  $4,908,373       NaN\n",
      "  Quentin Grimes  2TM 14.1  24  SG  $4,296,682       NaN\n",
      "D'Angelo Russell  BRK 13.3  28  PG $18,692,307       NaN\n",
      " Dennis Schröder  3TM 13.3  31  PG $13,025,250       NaN\n",
      "     Brook Lopez  MIL 13.0  36   C $23,000,000       NaN\n",
      "D'Angelo Russell  2TM 12.8  28  PG $18,692,307       NaN\n",
      "    Santi Aldama  MEM 12.8  24  PF  $3,960,531       NaN\n",
      " Malcolm Brogdon  WAS 12.7  32  PG $22,500,000       NaN\n",
      "D'Angelo Russell  LAL 12.4  28  PG $18,692,307       NaN\n",
      "       Ty Jerome  CLE 12.2  27  SG  $2,560,975       NaN\n",
      "     Moses Brown  DAL 11.8  25   C    $306,660       NaN\n",
      "    Caris LeVert  2TM 11.7  30  SG $16,615,384       NaN\n"
     ]
    }
   ],
   "source": [
    "import pandas as pd\n",
    "\n",
    "df2 = pd.read_excel(\"Contracts.xlsx\")\n",
    "df2_clean = df2.drop(0).reset_index(drop=True)\n",
    "contracts_columns = [\n",
    "    \"Rk\", \"Player\", \"Tm\", \"2024-2025\", \"2025-2026\", \"2026-2027\",\n",
    "    \"2027-2028\", \"2028-2029\", \"2029-2030\", \"Guaranteed\"\n",
    "]\n",
    "df2_clean.columns = contracts_columns\n",
    "\n",
    "free_agents = df2_clean[df2_clean[\"2025-2026\"].isna()]\n",
    "\n",
    "free_agents_with_stats = pd.merge(\n",
    "    free_agents,\n",
    "    df1_clean,\n",
    "    left_on=\"Player\",\n",
    "    right_on=\"player\",\n",
    "    how=\"left\"\n",
    ")\n",
    "\n",
    "free_agents_with_stats[\"PTS\"] = pd.to_numeric(free_agents_with_stats[\"PTS\"], errors=\"coerce\")\n",
    "free_agents_with_stats = free_agents_with_stats.dropna(subset=[\"PTS\"])\n",
    "\n",
    "top_free_agents = free_agents_with_stats.sort_values(by=\"PTS\", ascending=False)\n",
    "\n",
    "result = top_free_agents[[\n",
    "    \"Player\", \"Team\", \"PTS\", \"Age\", \"Pos\", \n",
    "    \"2024-2025\", \"2025-2026\"  \n",
    "]].head(20)\n",
    "\n",
    "print(\"Top 20 Free Agents for 2025-2026 (Sorted by Points):\")\n",
    "print(result.to_string(index=False))"
   ]
  },
  {
   "cell_type": "code",
   "execution_count": 63,
   "id": "07aa7764-5200-4991-a112-2dfc6e7d72f1",
   "metadata": {},
   "outputs": [
    {
     "name": "stdout",
     "output_type": "stream",
     "text": [
      "Top 20 Free Agents for 2025-2026 (Sorted by Points + FG%):\n",
      "          Player Team  PTS   FG% Age Pos   2024-2025 2025-2026\n",
      "      Cam Thomas  BRK 24.0 0.438  23  SG  $4,041,249       NaN\n",
      "  Quentin Grimes  PHI 22.0 0.489  24  SG  $4,296,682       NaN\n",
      " Dennis Schröder  BRK 18.4 0.452  31  PG $13,025,250       NaN\n",
      "   Malik Beasley  DET 16.3 0.434  28  SG  $6,000,000       NaN\n",
      "Jonathan Kuminga  GSW 16.0 0.455  22  PF  $7,636,307       NaN\n",
      "    Myles Turner  IND 15.4 0.481  28   C $19,928,500       NaN\n",
      "    Caris LeVert  ATL 14.5 0.473  30  SG $16,615,384       NaN\n",
      "     Josh Giddey  CHI 14.3 0.463  22  PG  $8,352,367       NaN\n",
      "  Quentin Grimes  2TM 14.1 0.476  24  SG  $4,296,682       NaN\n",
      "        Tre Mann  CHO 14.1 0.435  23  PG  $4,908,373       NaN\n",
      " Dennis Schröder  3TM 13.3 0.407  31  PG $13,025,250       NaN\n",
      "D'Angelo Russell  BRK 13.3 0.374  28  PG $18,692,307       NaN\n",
      "     Brook Lopez  MIL 13.0 0.509  36   C $23,000,000       NaN\n",
      "    Santi Aldama  MEM 12.8 0.484  24  PF  $3,960,531       NaN\n",
      "D'Angelo Russell  2TM 12.8 0.394  28  PG $18,692,307       NaN\n",
      " Malcolm Brogdon  WAS 12.7 0.433  32  PG $22,500,000       NaN\n",
      "D'Angelo Russell  LAL 12.4 0.415  28  PG $18,692,307       NaN\n",
      "       Ty Jerome  CLE 12.2 0.509  27  SG  $2,560,975       NaN\n",
      "     Moses Brown  DAL 11.8 0.724  25   C    $306,660       NaN\n",
      "    Caris LeVert  2TM 11.7 0.462  30  SG $16,615,384       NaN\n"
     ]
    }
   ],
   "source": [
    "free_agents = df2_clean[df2_clean[\"2025-2026\"].isna()]\n",
    "\n",
    "free_agents_with_stats = pd.merge(\n",
    "    free_agents,\n",
    "    df1_clean,\n",
    "    left_on=\"Player\",\n",
    "    right_on=\"player\",\n",
    "    how=\"left\"\n",
    ")\n",
    "\n",
    "free_agents_with_stats[\"PTS\"] = pd.to_numeric(free_agents_with_stats[\"PTS\"], errors=\"coerce\")\n",
    "free_agents_with_stats[\"FG%\"] = pd.to_numeric(free_agents_with_stats[\"FG%\"], errors=\"coerce\")\n",
    "free_agents_with_stats = free_agents_with_stats.dropna(subset=[\"PTS\", \"FG%\"])\n",
    "\n",
    "top_free_agents = free_agents_with_stats.sort_values(\n",
    "    by=[\"PTS\", \"FG%\"],\n",
    "    ascending=[False, False]\n",
    ").head(20)\n",
    "\n",
    "result = top_free_agents[[\n",
    "    \"Player\", \"Team\", \"PTS\", \"FG%\", \"Age\", \"Pos\", \n",
    "    \"2024-2025\", \"2025-2026\"\n",
    "]]\n",
    "\n",
    "print(\"Top 20 Free Agents for 2025-2026 (Sorted by Points + FG%):\")\n",
    "print(result.to_string(index=False))"
   ]
  },
  {
   "cell_type": "code",
   "execution_count": 66,
   "id": "8a4bc50d-563c-48d2-b871-e23906543003",
   "metadata": {},
   "outputs": [
    {
     "name": "stdout",
     "output_type": "stream",
     "text": [
      "Top 20 Free Agents for 2025-2026 (Sorted by Assists):\n",
      "          Player Team  AST Age Pos   2024-2025 2025-2026\n",
      "      Chris Paul  SAS  7.6  39  PG $10,460,000       NaN\n",
      "     Josh Giddey  CHI  7.0  22  PG  $8,352,367       NaN\n",
      "     Ben Simmons  BRK  6.9  28  PG $40,011,909       NaN\n",
      "     Ben Simmons  BRK  6.9  28  PG $40,011,909       NaN\n",
      "   Elfrid Payton  NOP  6.9  30  PG    $514,753       NaN\n",
      "   Elfrid Payton  NOP  6.9  30  PG    $514,753       NaN\n",
      "   Elfrid Payton  NOP  6.9  30  PG    $514,753       NaN\n",
      " Dennis Schröder  BRK  6.6  31  PG $13,025,250       NaN\n",
      "     Ben Simmons  2TM  5.9  28  PG $40,011,909       NaN\n",
      "     Ben Simmons  2TM  5.9  28  PG $40,011,909       NaN\n",
      "   Elfrid Payton  2TM  5.7  30  PG    $514,753       NaN\n",
      "   Elfrid Payton  2TM  5.7  30  PG    $514,753       NaN\n",
      "   Elfrid Payton  2TM  5.7  30  PG    $514,753       NaN\n",
      "D'Angelo Russell  BRK  5.7  28  PG $18,692,307       NaN\n",
      "      Tyus Jones  PHO  5.5  28  PG  $2,087,519       NaN\n",
      " Dennis Schröder  3TM  5.5  31  PG $13,025,250       NaN\n",
      " Dennis Schröder  DET  5.4  31  PG $13,025,250       NaN\n",
      "D'Angelo Russell  2TM  5.2  28  PG $18,692,307       NaN\n",
      " Davion Mitchell  MIA  5.0  26  PG  $6,451,077       NaN\n",
      "       Tre Jones  CHI  4.9  25  PG  $9,104,167       NaN\n"
     ]
    }
   ],
   "source": [
    "free_agents_with_stats[\"AST\"] = pd.to_numeric(free_agents_with_stats[\"AST\"], errors=\"coerce\")\n",
    "free_agents_with_stats = free_agents_with_stats.dropna(subset=[\"AST\"])\n",
    "\n",
    "top_free_agents = free_agents_with_stats.sort_values(by=\"AST\", ascending=False)\n",
    "\n",
    "result = top_free_agents[[\n",
    "    \"Player\", \"Team\", \"AST\", \"Age\", \"Pos\", \n",
    "    \"2024-2025\", \"2025-2026\" \n",
    "]].head(20)  \n",
    "\n",
    "print(\"Top 20 Free Agents for 2025-2026 (Sorted by Assists):\")\n",
    "print(result.to_string(index=False))"
   ]
  },
  {
   "cell_type": "code",
   "execution_count": 69,
   "id": "862a7f80-392b-4120-9404-c1fdd3b5673a",
   "metadata": {},
   "outputs": [
    {
     "name": "stdout",
     "output_type": "stream",
     "text": [
      "Top 20 Free Agents for 2025-2026 (Sorted by Rebounds):\n",
      "            Player Team  TRB Age Pos   2024-2025 2025-2026\n",
      "      Clint Capela  ATL  8.5  30   C $22,265,280       NaN\n",
      "       Josh Giddey  CHI  7.8  22  PG  $8,352,367       NaN\n",
      "       Moses Brown  DAL  7.8  25   C    $306,660       NaN\n",
      "    Day'Ron Sharpe  BRK  6.6  23   C  $3,989,122       NaN\n",
      "      Santi Aldama  MEM  6.6  24  PF  $3,960,531       NaN\n",
      "      Myles Turner  IND  6.6  28   C $19,928,500       NaN\n",
      "          Mo Bamba  NOP  6.3  26   C  $2,087,519       NaN\n",
      "      Kevon Looney  GSW  6.2  28   C  $8,000,000       NaN\n",
      "     Mason Plumlee  PHO  6.2  34   C  $2,087,519       NaN\n",
      "       Chuma Okeke  PHI  6.1  26  PF    $119,972       NaN\n",
      "        Al Horford  BOS  6.1  38   C  $9,500,000       NaN\n",
      "  Orlando Robinson  TOR  5.8  24   C  $1,199,723       NaN\n",
      "  Orlando Robinson  TOR  5.8  24   C  $1,199,723       NaN\n",
      "  Orlando Robinson  TOR  5.8  24   C  $1,199,723       NaN\n",
      "Guerschon Yabusele  PHI  5.7  29   C  $2,087,519       NaN\n",
      "    Isaiah Jackson  IND  5.6  23   C  $4,435,381       NaN\n",
      "  Precious Achiuwa  NYK  5.5  25   C  $6,000,000       NaN\n",
      "      Steven Adams  HOU  5.5  31   C $12,600,000       NaN\n",
      "       Luke Kornet  BOS  5.3  29   C  $2,087,519       NaN\n",
      "   Bismack Biyombo  SAS  5.3  32   C    $143,967       NaN\n"
     ]
    }
   ],
   "source": [
    "free_agents_with_stats[\"TRB\"] = pd.to_numeric(free_agents_with_stats[\"TRB\"], errors=\"coerce\")\n",
    "free_agents_with_stats = free_agents_with_stats.dropna(subset=[\"TRB\"])\n",
    "\n",
    "top_free_agents = free_agents_with_stats.sort_values(by=\"TRB\", ascending=False)\n",
    "\n",
    "result = top_free_agents[[\n",
    "    \"Player\", \"Team\", \"TRB\", \"Age\", \"Pos\", \n",
    "    \"2024-2025\", \"2025-2026\"  \n",
    "]].head(20)  \n",
    "\n",
    "print(\"Top 20 Free Agents for 2025-2026 (Sorted by Rebounds):\")\n",
    "print(result.to_string(index=False))"
   ]
  },
  {
   "cell_type": "code",
   "execution_count": 72,
   "id": "ca15893e-87be-4599-91dc-3221da470b8b",
   "metadata": {},
   "outputs": [
    {
     "name": "stdout",
     "output_type": "stream",
     "text": [
      "Top 20 Free Agents for 2025-2026 (Sorted by 3-Point %):\n",
      "             Player Team   3P% 3PA Age Pos   2024-2025 2025-2026\n",
      "   MarJon Beauchamp  LAC 0.667 1.0  24  SF  $2,733,720       NaN\n",
      "          PJ Dozier  MIN 0.667 0.3  28  SG  $1,051,255       NaN\n",
      "  Jordan McLaughlin  SAS 0.636 0.8  28  PG  $2,087,519       NaN\n",
      "Patrick Baldwin Jr.  2TM 0.524 0.9  22  SF  $2,448,840       NaN\n",
      "Patrick Baldwin Jr.  WAS 0.524 1.0  22  SF  $2,448,840       NaN\n",
      "         Taj Gibson  CHO 0.500 0.1  39   C  $2,087,519       NaN\n",
      "          Tre Jones  CHI 0.500 1.2  25  PG  $9,104,167       NaN\n",
      "           Alex Len  LAL 0.500 0.2  31   C  $2,831,348       NaN\n",
      "        Patty Mills  LAC 0.500 1.4  36  PG  $2,087,519       NaN\n",
      "       Bones Hyland  MIN 0.500 0.7  24  PG  $4,158,439       NaN\n",
      "           Alex Len  LAL 0.500 0.2  31   C  $2,831,348       NaN\n",
      "     Markelle Fultz  SAC 0.500 0.4  26  PG    $731,831       NaN\n",
      "    Davion Mitchell  MIA 0.467 3.1  26  PG  $6,451,077       NaN\n",
      "  Jordan McLaughlin  2TM 0.459 0.9  28  PG  $2,087,519       NaN\n",
      "        Chuma Okeke  PHI 0.455 3.1  26  PF    $119,972       NaN\n",
      "     Taurean Prince  MIL 0.450 4.2  30  SF  $2,087,519       NaN\n",
      "         Seth Curry  CHO 0.449 2.6  34  SG  $2,087,519       NaN\n",
      "         Dante Exum  DAL 0.447 2.6  29  PG  $3,150,000       NaN\n",
      "    Larry Nance Jr.  ATL 0.447 3.2  32  PF $11,205,000       NaN\n",
      "       Luke Kennard  MEM 0.440 4.1  28  SG  $9,250,000       NaN\n"
     ]
    }
   ],
   "source": [
    "column_3p_pct = \"3P%\"\n",
    "\n",
    "free_agents_with_stats[column_3p_pct] = pd.to_numeric(\n",
    "    free_agents_with_stats[column_3p_pct], \n",
    "    errors=\"coerce\"\n",
    ")\n",
    "free_agents_with_stats = free_agents_with_stats.dropna(subset=[column_3p_pct])\n",
    "\n",
    "top_free_agents = free_agents_with_stats.sort_values(\n",
    "    by=column_3p_pct, \n",
    "    ascending=False\n",
    ")\n",
    "\n",
    "result = top_free_agents[[\n",
    "    \"Player\", \"Team\", column_3p_pct, \"3PA\", \"Age\", \"Pos\",\n",
    "    \"2024-2025\", \"2025-2026\"\n",
    "]].head(20)\n",
    "\n",
    "print(\"Top 20 Free Agents for 2025-2026 (Sorted by 3-Point %):\")\n",
    "print(result.to_string(index=False))"
   ]
  },
  {
   "cell_type": "code",
   "execution_count": 75,
   "id": "87085174-ca15-4915-ae8f-f8e3c04d980d",
   "metadata": {},
   "outputs": [
    {
     "name": "stdout",
     "output_type": "stream",
     "text": [
      "Top 20 Free Agents for 2025-2026 (Sorted by 3-Point %, min 4 attempts per game):\n",
      "                  Player Team   3P%  3PA Age Pos   2024-2025 2025-2026\n",
      "          Taurean Prince  MIL 0.450  4.2  30  SF  $2,087,519       NaN\n",
      "            Luke Kennard  MEM 0.440  4.1  28  SG  $9,250,000       NaN\n",
      "           Malik Beasley  DET 0.421  9.2  28  SG  $6,000,000       NaN\n",
      "          Gary Trent Jr.  MIL 0.419  5.8  26  SG  $2,087,519       NaN\n",
      "              Tyus Jones  PHO 0.418  5.0  28  PG  $2,087,519       NaN\n",
      "            Myles Turner  IND 0.401  5.4  28   C $19,928,500       NaN\n",
      "                Tre Mann  CHO 0.400  4.6  23  PG  $4,908,373       NaN\n",
      "          Quentin Grimes  DAL 0.398  4.3  24  SG  $4,296,682       NaN\n",
      "          Quentin Grimes  2TM 0.391  5.3  24  SG  $4,296,682       NaN\n",
      "Nickeil Alexander-Walker  MIN 0.390  4.5  26  SG  $4,312,500       NaN\n",
      "        Garrison Mathews  ATL 0.389  4.6  28  SG  $2,230,253       NaN\n",
      "         Dennis Schröder  BRK 0.387  6.5  31  PG $13,025,250       NaN\n",
      "          Quentin Grimes  PHI 0.384  7.5  24  SG  $4,296,682       NaN\n",
      "              Chris Paul  SAS 0.383  4.6  39  PG $10,460,000       NaN\n",
      "             Brook Lopez  MIL 0.374  4.7  36   C $23,000,000       NaN\n",
      "       De'Anthony Melton  GSW 0.371  5.8  26  SG $12,822,000       NaN\n",
      "        Tim Hardaway Jr.  DET 0.370  5.8  32  SG $16,193,183       NaN\n",
      "            Caris LeVert  2TM 0.369  4.4  30  SG $16,615,384       NaN\n",
      "            Santi Aldama  MEM 0.368  5.0  24  PF  $3,960,531       NaN\n",
      "             Sam Merrill  CLE 0.365  5.1  28  SG  $2,164,993       NaN\n"
     ]
    }
   ],
   "source": [
    "column_3p_pct = \"3P%\"\n",
    "column_3pa = \"3PA\" \n",
    "\n",
    "# Convert both columns to numeric\n",
    "free_agents_with_stats[column_3p_pct] = pd.to_numeric(\n",
    "    free_agents_with_stats[column_3p_pct], \n",
    "    errors=\"coerce\"\n",
    ")\n",
    "free_agents_with_stats[column_3pa] = pd.to_numeric(\n",
    "    free_agents_with_stats[column_3pa], \n",
    "    errors=\"coerce\"\n",
    ")\n",
    "\n",
    "free_agents_with_stats = free_agents_with_stats.dropna(subset=[column_3p_pct, column_3pa])\n",
    "free_agents_with_stats = free_agents_with_stats[free_agents_with_stats[column_3pa] > 4]\n",
    "\n",
    "top_free_agents = free_agents_with_stats.sort_values(\n",
    "    by=column_3p_pct, \n",
    "    ascending=False\n",
    ")\n",
    "\n",
    "result = top_free_agents[[\n",
    "    \"Player\", \"Team\", column_3p_pct, column_3pa, \"Age\", \"Pos\",\n",
    "    \"2024-2025\", \"2025-2026\"\n",
    "]].head(20)\n",
    "\n",
    "print(\"Top 20 Free Agents for 2025-2026 (Sorted by 3-Point %, min 4 attempts per game):\")\n",
    "print(result.to_string(index=False))"
   ]
  },
  {
   "cell_type": "code",
   "execution_count": 78,
   "id": "ffec416a-f88c-4842-8d93-16a907ed27de",
   "metadata": {},
   "outputs": [
    {
     "name": "stdout",
     "output_type": "stream",
     "text": [
      "Top 20 Free Agents for 2025-2026 (Sorted by Blocks):\n",
      "             Player Team  BLK Age Pos   2024-2025 2025-2026\n",
      "       Myles Turner  IND  1.9  28   C $19,928,500       NaN\n",
      "        Brook Lopez  MIL  1.8  36   C $23,000,000       NaN\n",
      "     Isaiah Jackson  IND  1.6  23   C  $4,435,381       NaN\n",
      "        Luke Kornet  BOS  1.0  29   C  $2,087,519       NaN\n",
      "       Clint Capela  ATL  1.0  30   C $22,265,280       NaN\n",
      "           Mo Bamba  2TM  1.0  26   C  $2,087,519       NaN\n",
      "           Mo Bamba  LAC  1.0  26   C  $2,087,519       NaN\n",
      "         Al Horford  BOS  0.9  38   C  $9,500,000       NaN\n",
      "    Bismack Biyombo  SAS  0.9  32   C    $143,967       NaN\n",
      "       Jaxson Hayes  LAL  0.9  24   C  $2,463,946       NaN\n",
      "      Thomas Bryant  MIA  0.9  27   C  $2,087,519       NaN\n",
      "    Bismack Biyombo  SAS  0.9  32   C    $143,967       NaN\n",
      "        Moses Brown  DAL  0.8  25   C    $306,660       NaN\n",
      "Jalen Hood-Schifino  PHI  0.8  21  SG  $3,879,840       NaN\n",
      "     Day'Ron Sharpe  BRK  0.8  23   C  $3,989,122       NaN\n",
      "           Mo Bamba  NOP  0.8  26   C  $2,087,519       NaN\n",
      "   D'Angelo Russell  BRK  0.7  28  PG $18,692,307       NaN\n",
      "            Bol Bol  PHO  0.7  25  PF  $2,087,519       NaN\n",
      "   Precious Achiuwa  NYK  0.7  25   C  $6,000,000       NaN\n",
      "Jalen Hood-Schifino  2TM  0.7  21  SG  $3,879,840       NaN\n"
     ]
    }
   ],
   "source": [
    "free_agents = df2_clean[df2_clean[\"2025-2026\"].isna()]\n",
    "\n",
    "free_agents_with_stats = pd.merge(\n",
    "    free_agents,\n",
    "    df1_clean,\n",
    "    left_on=\"Player\",\n",
    "    right_on=\"player\",\n",
    "    how=\"left\"\n",
    ")\n",
    "\n",
    "free_agents_with_stats[\"BLK\"] = pd.to_numeric(free_agents_with_stats[\"BLK\"], errors=\"coerce\")\n",
    "free_agents_with_stats = free_agents_with_stats.dropna(subset=[\"BLK\"])\n",
    "\n",
    "top_blockers = free_agents_with_stats.sort_values(\n",
    "    by=\"BLK\",\n",
    "    ascending=False\n",
    ").head(20)\n",
    "\n",
    "result = top_blockers[[\n",
    "    \"Player\", \"Team\", \"BLK\", \"Age\", \"Pos\", \n",
    "    \"2024-2025\", \"2025-2026\"\n",
    "]]\n",
    "\n",
    "print(\"Top 20 Free Agents for 2025-2026 (Sorted by Blocks):\")\n",
    "print(result.to_string(index=False))"
   ]
  },
  {
   "cell_type": "code",
   "execution_count": 81,
   "id": "c694195f-09b7-4f33-98fc-5f7de81667df",
   "metadata": {},
   "outputs": [
    {
     "name": "stdout",
     "output_type": "stream",
     "text": [
      "Top 10 Free Agents for 2025-2026 (Best Overall Stats):\n",
      "          Player Team  PTS  AST  TRB  BLK  STL   FG%   3P% Age Pos   2024-2025 2025-2026\n",
      "  Quentin Grimes  PHI 22.0  4.3  4.9  0.5  1.6 0.489 0.384  24  SG  $4,296,682       NaN\n",
      "      Cam Thomas  BRK 24.0  3.8  3.3  0.1  0.6 0.438 0.349  23  SG  $4,041,249       NaN\n",
      " Dennis Schröder  BRK 18.4  6.6  3.0  0.2  1.1 0.452 0.387  31  PG $13,025,250       NaN\n",
      "     Josh Giddey  CHI 14.3  7.0  7.8  0.6  1.2 0.463 0.377  22  PG  $8,352,367       NaN\n",
      "    Myles Turner  IND 15.4  1.6  6.6  1.9  0.8 0.481 0.401  28   C $19,928,500       NaN\n",
      "Jonathan Kuminga  GSW 16.0  2.2  4.6  0.5  0.9 0.455 0.319  22  PF  $7,636,307       NaN\n",
      "D'Angelo Russell  BRK 13.3  5.7  2.9  0.7  1.2 0.374 0.303  28  PG $18,692,307       NaN\n",
      "    Santi Aldama  MEM 12.8  2.9  6.6  0.5  0.8 0.484 0.368  24  PF  $3,960,531       NaN\n",
      "   Malik Beasley  DET 16.3  1.7  2.7  0.1  0.9 0.434 0.421  28  SG  $6,000,000       NaN\n",
      "  Quentin Grimes  2TM 14.1  2.8  4.2  0.3  1.0 0.476 0.391  24  SG  $4,296,682       NaN\n"
     ]
    }
   ],
   "source": [
    "df1 = pd.read_excel(\"stats.xlsx\", sheet_name=\"Per Game Table\")\n",
    "df1_clean = df1.drop(0).reset_index(drop=True)\n",
    "stats_columns = [\n",
    "    \"Rk\", \"player\", \"Age\", \"Team\", \"Pos\", \"G\", \"GS\", \"MP\", \"FG\", \"FGA\", \"FG%\",\n",
    "    \"3P\", \"3PA\", \"3P%\", \"2P\", \"2PA\", \"2P%\", \"eFG%\", \"FT\", \"FTA\", \"FT%\",\n",
    "    \"ORB\", \"DRB\", \"TRB\", \"AST\", \"STL\", \"BLK\", \"TOV\", \"PF\", \"PTS\"\n",
    "]\n",
    "df1_clean.columns = stats_columns\n",
    "\n",
    "df2 = pd.read_excel(\"Contracts.xlsx\")\n",
    "df2_clean = df2.drop(0).reset_index(drop=True)\n",
    "contracts_columns = [\n",
    "    \"Rk\", \"Player\", \"Tm\", \"2024-2025\", \"2025-2026\", \"2026-2027\",\n",
    "    \"2027-2028\", \"2028-2029\", \"2029-2030\", \"Guaranteed\"\n",
    "]\n",
    "df2_clean.columns = contracts_columns\n",
    "\n",
    "free_agents = df2_clean[df2_clean[\"2025-2026\"].isna()]\n",
    "\n",
    "free_agents_with_stats = pd.merge(\n",
    "    free_agents,\n",
    "    df1_clean,\n",
    "    left_on=\"Player\",\n",
    "    right_on=\"player\",\n",
    "    how=\"left\"\n",
    ")\n",
    "\n",
    "numeric_cols = [\"PTS\", \"AST\", \"TRB\", \"BLK\", \"STL\", \"FG%\", \"3P%\"]\n",
    "for col in numeric_cols:\n",
    "    free_agents_with_stats[col] = pd.to_numeric(free_agents_with_stats[col], errors=\"coerce\")\n",
    "\n",
    "free_agents_with_stats = free_agents_with_stats.dropna(subset=[\"PTS\", \"AST\", \"TRB\", \"BLK\"])\n",
    "\n",
    "free_agents_with_stats[\"Overall Score\"] = (\n",
    "    free_agents_with_stats[\"PTS\"] * 0.3 +  \n",
    "    free_agents_with_stats[\"AST\"] * 0.2 +   \n",
    "    free_agents_with_stats[\"TRB\"] * 0.2 +   \n",
    "    free_agents_with_stats[\"BLK\"] * 0.15 +  \n",
    "    free_agents_with_stats[\"STL\"] * 0.15   \n",
    ")\n",
    "\n",
    "top_players = free_agents_with_stats.sort_values(by=\"Overall Score\", ascending=False).head(10)\n",
    "\n",
    "result = top_players[[\n",
    "    \"Player\", \"Team\", \"PTS\", \"AST\", \"TRB\", \"BLK\", \"STL\", \"FG%\", \"3P%\", \n",
    "    \"Age\", \"Pos\", \"2024-2025\", \"2025-2026\"\n",
    "]]\n",
    "\n",
    "print(\"Top 10 Free Agents for 2025-2026 (Best Overall Stats):\")\n",
    "print(result.to_string(index=False))"
   ]
  },
  {
   "cell_type": "code",
   "execution_count": 96,
   "id": "f7ff6b68-38c9-49f5-be70-063cbfafb11e",
   "metadata": {},
   "outputs": [
    {
     "name": "stdout",
     "output_type": "stream",
     "text": [
      "Rk         object\n",
      "player     object\n",
      "Age        object\n",
      "Team       object\n",
      "Pos        object\n",
      "G          object\n",
      "GS         object\n",
      "MP         object\n",
      "FG        float64\n",
      "FGA       float64\n",
      "FG%       float64\n",
      "3P        float64\n",
      "3PA       float64\n",
      "3P%       float64\n",
      "2P        float64\n",
      "2PA       float64\n",
      "2P%       float64\n",
      "eFG%      float64\n",
      "FT        float64\n",
      "FTA       float64\n",
      "FT%       float64\n",
      "ORB       float64\n",
      "DRB       float64\n",
      "TRB       float64\n",
      "AST       float64\n",
      "STL       float64\n",
      "BLK       float64\n",
      "TOV       float64\n",
      "PF        float64\n",
      "PTS       float64\n",
      "dtype: object\n"
     ]
    }
   ],
   "source": [
    "# Convert columns 8 to 30 to float64 \n",
    "cols_to_convert = df1_clean.columns[8:31] \n",
    "df1_clean[cols_to_convert] = df1_clean[cols_to_convert].apply(\n",
    "    lambda col: pd.to_numeric(col, errors=\"coerce\")\n",
    ")\n",
    "\n",
    "# Verify dtypes\n",
    "print(df1_clean.dtypes)"
   ]
  },
  {
   "cell_type": "code",
   "execution_count": 121,
   "id": "510c0ed6-18f7-43fe-b77b-c58fb3342c35",
   "metadata": {},
   "outputs": [
    {
     "name": "stdout",
     "output_type": "stream",
     "text": [
      "All files saved successfully!\n"
     ]
    }
   ],
   "source": [
    "# 1. First ensure all required DataFrames exist\n",
    "import pandas as pd\n",
    "\n",
    "# Load your original data\n",
    "df1 = pd.read_excel(\"stats.xlsx\", sheet_name=\"Per Game Table\")\n",
    "df2 = pd.read_excel(\"Contracts.xlsx\")\n",
    "\n",
    "# Clean the data (remove header rows)\n",
    "df1_clean = df1.drop(0).reset_index(drop=True)\n",
    "df2_clean = df2.drop(0).reset_index(drop=True)\n",
    "\n",
    "# Set proper column names (use your actual column names)\n",
    "df1_clean.columns = [\"Rk\", \"player\", \"Age\", \"Team\", \"Pos\", \"G\", \"GS\", \"MP\", \"FG\", \"FGA\", \"FG%\", \n",
    "                    \"3P\", \"3PA\", \"3P%\", \"2P\", \"2PA\", \"2P%\", \"eFG%\", \"FT\", \"FTA\", \"FT%\",\n",
    "                    \"ORB\", \"DRB\", \"TRB\", \"AST\", \"STL\", \"BLK\", \"TOV\", \"PF\", \"PTS\"]\n",
    "\n",
    "df2_clean.columns = [\"Rk\", \"Player\", \"Tm\", \"2024-2025\", \"2025-2026\", \"2026-2027\",\n",
    "                    \"2027-2028\", \"2028-2029\", \"2029-2030\", \"Guaranteed\"]\n",
    "\n",
    "# Create the merged DataFrame\n",
    "merged_df = pd.merge(\n",
    "    df1_clean,\n",
    "    df2_clean,\n",
    "    left_on=\"player\",\n",
    "    right_on=\"Player\",\n",
    "    how=\"left\"\n",
    ")\n",
    "\n",
    "# 2. Now create the derived DataFrames\n",
    "players_no_contract = merged_df[merged_df[\"2025-2026\"].isna()]\n",
    "raptors_players = df1_clean[df1_clean[\"Team\"] == \"TOR\"]\n",
    "\n",
    "# 3. Finally save all files\n",
    "merged_df.to_csv(\"Free Agency - Merged Data.csv\", index=False)\n",
    "df1_clean.to_csv(\"Free Agency - Player Stats.csv\", index=False)\n",
    "df2_clean.to_csv(\"Free Agency - Contracts.csv\", index=False)\n",
    "players_no_contract.to_csv(\"Free Agency - 2026 FA Players.csv\", index=False)\n",
    "raptors_players.to_csv(\"Free Agency - Raptors Analysis.csv\", index=False)\n",
    "\n",
    "print(\"All files saved successfully!\")"
   ]
  },
  {
   "cell_type": "code",
   "execution_count": null,
   "id": "783022c5-c3f9-4804-9b7c-d81d31ca77fc",
   "metadata": {},
   "outputs": [],
   "source": []
  },
  {
   "cell_type": "code",
   "execution_count": null,
   "id": "7562445d-5833-4930-9968-02a6de6669ef",
   "metadata": {},
   "outputs": [],
   "source": []
  },
  {
   "cell_type": "code",
   "execution_count": null,
   "id": "685d68fa-4314-4635-a70a-a05058f24b48",
   "metadata": {},
   "outputs": [],
   "source": []
  }
 ],
 "metadata": {
  "kernelspec": {
   "display_name": "Python 3 (ipykernel)",
   "language": "python",
   "name": "python3"
  },
  "language_info": {
   "codemirror_mode": {
    "name": "ipython",
    "version": 3
   },
   "file_extension": ".py",
   "mimetype": "text/x-python",
   "name": "python",
   "nbconvert_exporter": "python",
   "pygments_lexer": "ipython3",
   "version": "3.12.4"
  }
 },
 "nbformat": 4,
 "nbformat_minor": 5
}
